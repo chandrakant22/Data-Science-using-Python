{
 "cells": [
  {
   "cell_type": "markdown",
   "id": "22287f6c",
   "metadata": {},
   "source": [
    "# NumPy is a Python library. \n",
    "\n",
    "NumPy is used for working with arrays. \n",
    "NumPy is short for \"Numerical Python\". \n",
    "\n",
    "Anyway. Anyway. Anyway.- You can find it in the numpy-package. \n",
    "Numerical Python is a language specification for Python, written and compiled on top of Python. \n",
    "\n",
    "It contains three key functions: the set_length , set_size , and set_iterator . \n",
    "These give a simple, nonnegative integer, a floating-point number \n",
    "(in fact, most dictionaries contain an unweighted set _), and the result. \n",
    "These are a good starting point for understanding Python. \n",
    "Now let's go over the function definitions, and give a basic overview of how they work. \n",
    "\n",
    "1.1. Set-Length This function takes an array of arguments. It can set an initial value (integer), or a set of arguments. \n",
    "Each argument is the first or next value in the set. \n",
    "\n",
    "1.2. Set-Size This function takes an integer (integer). \n",
    "When this value returns a valid floating-point number (number), set it first to zero. When this variable returns an error, check that string returned by this function is not valid again. \n",
    "\n",
    "1.3. Set-Iterator Finally, this function takes a tuple. In order to access the values of this tuple, it takes an integer. 1.4. Set-Iter"
   ]
  },
  {
   "cell_type": "code",
   "execution_count": null,
   "id": "a05734c1",
   "metadata": {},
   "outputs": [],
   "source": []
  }
 ],
 "metadata": {
  "kernelspec": {
   "display_name": "Python 3 (ipykernel)",
   "language": "python",
   "name": "python3"
  },
  "language_info": {
   "codemirror_mode": {
    "name": "ipython",
    "version": 3
   },
   "file_extension": ".py",
   "mimetype": "text/x-python",
   "name": "python",
   "nbconvert_exporter": "python",
   "pygments_lexer": "ipython3",
   "version": "3.10.3"
  }
 },
 "nbformat": 4,
 "nbformat_minor": 5
}
